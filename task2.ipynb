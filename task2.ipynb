{
 "cells": [
  {
   "cell_type": "code",
   "execution_count": 1,
   "id": "c746e4ad",
   "metadata": {
    "execution": {
     "iopub.execute_input": "2021-07-22T20:40:30.012104Z",
     "iopub.status.busy": "2021-07-22T20:40:30.010251Z",
     "iopub.status.idle": "2021-07-22T20:40:30.991386Z",
     "shell.execute_reply": "2021-07-22T20:40:30.990203Z",
     "shell.execute_reply.started": "2021-07-22T20:30:29.307068Z"
    },
    "papermill": {
     "duration": 1.048763,
     "end_time": "2021-07-22T20:40:30.991543",
     "exception": false,
     "start_time": "2021-07-22T20:40:29.942780",
     "status": "completed"
    },
    "tags": []
   },
   "outputs": [],
   "source": [
    "import pandas as pd\n",
    "import numpy as np\n",
    "import matplotlib.pyplot as plt\n",
    "from sklearn.linear_model import LinearRegression, Ridge, Lasso\n",
    "from sklearn.model_selection import train_test_split, cross_val_score\n",
    "from statistics import mean\n",
    "import math as math\n"
   ]
  },
  {
   "cell_type": "code",
   "execution_count": 2,
   "id": "a6f88a8d",
   "metadata": {
    "execution": {
     "iopub.execute_input": "2021-07-22T20:40:31.055307Z",
     "iopub.status.busy": "2021-07-22T20:40:31.054745Z",
     "iopub.status.idle": "2021-07-22T20:40:31.182227Z",
     "shell.execute_reply": "2021-07-22T20:40:31.181683Z",
     "shell.execute_reply.started": "2021-07-22T20:30:29.325958Z"
    },
    "papermill": {
     "duration": 0.162668,
     "end_time": "2021-07-22T20:40:31.182348",
     "exception": false,
     "start_time": "2021-07-22T20:40:31.019680",
     "status": "completed"
    },
    "tags": []
   },
   "outputs": [],
   "source": [
    "path = \"../input/flight-take-off-data-jfk-airport/M1_final.csv\"\n",
    "data = pd.read_csv(path)"
   ]
  },
  {
   "cell_type": "code",
   "execution_count": 3,
   "id": "c14bdfec",
   "metadata": {
    "execution": {
     "iopub.execute_input": "2021-07-22T20:40:31.254556Z",
     "iopub.status.busy": "2021-07-22T20:40:31.253933Z",
     "iopub.status.idle": "2021-07-22T20:40:31.282331Z",
     "shell.execute_reply": "2021-07-22T20:40:31.282762Z",
     "shell.execute_reply.started": "2021-07-22T20:30:29.469677Z"
    },
    "papermill": {
     "duration": 0.073077,
     "end_time": "2021-07-22T20:40:31.282894",
     "exception": false,
     "start_time": "2021-07-22T20:40:31.209817",
     "status": "completed"
    },
    "tags": []
   },
   "outputs": [
    {
     "data": {
      "text/html": [
       "<div>\n",
       "<style scoped>\n",
       "    .dataframe tbody tr th:only-of-type {\n",
       "        vertical-align: middle;\n",
       "    }\n",
       "\n",
       "    .dataframe tbody tr th {\n",
       "        vertical-align: top;\n",
       "    }\n",
       "\n",
       "    .dataframe thead th {\n",
       "        text-align: right;\n",
       "    }\n",
       "</style>\n",
       "<table border=\"1\" class=\"dataframe\">\n",
       "  <thead>\n",
       "    <tr style=\"text-align: right;\">\n",
       "      <th></th>\n",
       "      <th>MONTH</th>\n",
       "      <th>DAY_OF_MONTH</th>\n",
       "      <th>DAY_OF_WEEK</th>\n",
       "      <th>OP_UNIQUE_CARRIER</th>\n",
       "      <th>TAIL_NUM</th>\n",
       "      <th>DEST</th>\n",
       "      <th>DEP_DELAY</th>\n",
       "      <th>CRS_ELAPSED_TIME</th>\n",
       "      <th>DISTANCE</th>\n",
       "      <th>CRS_DEP_M</th>\n",
       "      <th>...</th>\n",
       "      <th>Dew Point</th>\n",
       "      <th>Humidity</th>\n",
       "      <th>Wind</th>\n",
       "      <th>Wind Speed</th>\n",
       "      <th>Wind Gust</th>\n",
       "      <th>Pressure</th>\n",
       "      <th>Condition</th>\n",
       "      <th>sch_dep</th>\n",
       "      <th>sch_arr</th>\n",
       "      <th>TAXI_OUT</th>\n",
       "    </tr>\n",
       "  </thead>\n",
       "  <tbody>\n",
       "    <tr>\n",
       "      <th>0</th>\n",
       "      <td>11</td>\n",
       "      <td>1</td>\n",
       "      <td>5</td>\n",
       "      <td>B6</td>\n",
       "      <td>N828JB</td>\n",
       "      <td>CHS</td>\n",
       "      <td>-1</td>\n",
       "      <td>124</td>\n",
       "      <td>636</td>\n",
       "      <td>324</td>\n",
       "      <td>...</td>\n",
       "      <td>34</td>\n",
       "      <td>58</td>\n",
       "      <td>W</td>\n",
       "      <td>25</td>\n",
       "      <td>38</td>\n",
       "      <td>29.86</td>\n",
       "      <td>Fair / Windy</td>\n",
       "      <td>9</td>\n",
       "      <td>17</td>\n",
       "      <td>14</td>\n",
       "    </tr>\n",
       "    <tr>\n",
       "      <th>1</th>\n",
       "      <td>11</td>\n",
       "      <td>1</td>\n",
       "      <td>5</td>\n",
       "      <td>B6</td>\n",
       "      <td>N992JB</td>\n",
       "      <td>LAX</td>\n",
       "      <td>-7</td>\n",
       "      <td>371</td>\n",
       "      <td>2475</td>\n",
       "      <td>340</td>\n",
       "      <td>...</td>\n",
       "      <td>34</td>\n",
       "      <td>58</td>\n",
       "      <td>W</td>\n",
       "      <td>25</td>\n",
       "      <td>38</td>\n",
       "      <td>29.86</td>\n",
       "      <td>Fair / Windy</td>\n",
       "      <td>9</td>\n",
       "      <td>17</td>\n",
       "      <td>15</td>\n",
       "    </tr>\n",
       "    <tr>\n",
       "      <th>2</th>\n",
       "      <td>11</td>\n",
       "      <td>1</td>\n",
       "      <td>5</td>\n",
       "      <td>B6</td>\n",
       "      <td>N959JB</td>\n",
       "      <td>FLL</td>\n",
       "      <td>40</td>\n",
       "      <td>181</td>\n",
       "      <td>1069</td>\n",
       "      <td>301</td>\n",
       "      <td>...</td>\n",
       "      <td>34</td>\n",
       "      <td>58</td>\n",
       "      <td>W</td>\n",
       "      <td>25</td>\n",
       "      <td>38</td>\n",
       "      <td>29.86</td>\n",
       "      <td>Fair / Windy</td>\n",
       "      <td>9</td>\n",
       "      <td>17</td>\n",
       "      <td>22</td>\n",
       "    </tr>\n",
       "    <tr>\n",
       "      <th>3</th>\n",
       "      <td>11</td>\n",
       "      <td>1</td>\n",
       "      <td>5</td>\n",
       "      <td>B6</td>\n",
       "      <td>N999JQ</td>\n",
       "      <td>MCO</td>\n",
       "      <td>-2</td>\n",
       "      <td>168</td>\n",
       "      <td>944</td>\n",
       "      <td>345</td>\n",
       "      <td>...</td>\n",
       "      <td>34</td>\n",
       "      <td>58</td>\n",
       "      <td>W</td>\n",
       "      <td>25</td>\n",
       "      <td>38</td>\n",
       "      <td>29.86</td>\n",
       "      <td>Fair / Windy</td>\n",
       "      <td>9</td>\n",
       "      <td>17</td>\n",
       "      <td>12</td>\n",
       "    </tr>\n",
       "    <tr>\n",
       "      <th>4</th>\n",
       "      <td>11</td>\n",
       "      <td>1</td>\n",
       "      <td>5</td>\n",
       "      <td>DL</td>\n",
       "      <td>N880DN</td>\n",
       "      <td>ATL</td>\n",
       "      <td>-4</td>\n",
       "      <td>139</td>\n",
       "      <td>760</td>\n",
       "      <td>360</td>\n",
       "      <td>...</td>\n",
       "      <td>32</td>\n",
       "      <td>58</td>\n",
       "      <td>W</td>\n",
       "      <td>24</td>\n",
       "      <td>35</td>\n",
       "      <td>29.91</td>\n",
       "      <td>Fair / Windy</td>\n",
       "      <td>9</td>\n",
       "      <td>17</td>\n",
       "      <td>13</td>\n",
       "    </tr>\n",
       "  </tbody>\n",
       "</table>\n",
       "<p>5 rows × 23 columns</p>\n",
       "</div>"
      ],
      "text/plain": [
       "   MONTH  DAY_OF_MONTH  DAY_OF_WEEK OP_UNIQUE_CARRIER TAIL_NUM DEST  \\\n",
       "0     11             1            5                B6   N828JB  CHS   \n",
       "1     11             1            5                B6   N992JB  LAX   \n",
       "2     11             1            5                B6   N959JB  FLL   \n",
       "3     11             1            5                B6   N999JQ  MCO   \n",
       "4     11             1            5                DL   N880DN  ATL   \n",
       "\n",
       "   DEP_DELAY  CRS_ELAPSED_TIME  DISTANCE  CRS_DEP_M  ...  Dew Point  Humidity  \\\n",
       "0         -1               124       636        324  ...         34        58   \n",
       "1         -7               371      2475        340  ...         34        58   \n",
       "2         40               181      1069        301  ...         34        58   \n",
       "3         -2               168       944        345  ...         34        58   \n",
       "4         -4               139       760        360  ...         32        58   \n",
       "\n",
       "   Wind Wind Speed  Wind Gust Pressure     Condition  sch_dep  sch_arr  \\\n",
       "0     W         25         38    29.86  Fair / Windy        9       17   \n",
       "1     W         25         38    29.86  Fair / Windy        9       17   \n",
       "2     W         25         38    29.86  Fair / Windy        9       17   \n",
       "3     W         25         38    29.86  Fair / Windy        9       17   \n",
       "4     W         24         35    29.91  Fair / Windy        9       17   \n",
       "\n",
       "  TAXI_OUT  \n",
       "0       14  \n",
       "1       15  \n",
       "2       22  \n",
       "3       12  \n",
       "4       13  \n",
       "\n",
       "[5 rows x 23 columns]"
      ]
     },
     "execution_count": 3,
     "metadata": {},
     "output_type": "execute_result"
    }
   ],
   "source": [
    "data.head(5)"
   ]
  },
  {
   "cell_type": "code",
   "execution_count": 4,
   "id": "8d227499",
   "metadata": {
    "execution": {
     "iopub.execute_input": "2021-07-22T20:40:31.344411Z",
     "iopub.status.busy": "2021-07-22T20:40:31.343891Z",
     "iopub.status.idle": "2021-07-22T20:40:31.348024Z",
     "shell.execute_reply": "2021-07-22T20:40:31.347489Z",
     "shell.execute_reply.started": "2021-07-22T20:30:29.520411Z"
    },
    "papermill": {
     "duration": 0.035031,
     "end_time": "2021-07-22T20:40:31.348140",
     "exception": false,
     "start_time": "2021-07-22T20:40:31.313109",
     "status": "completed"
    },
    "tags": []
   },
   "outputs": [],
   "source": [
    "from sklearn import preprocessing\n"
   ]
  },
  {
   "cell_type": "code",
   "execution_count": 5,
   "id": "9203d36c",
   "metadata": {
    "execution": {
     "iopub.execute_input": "2021-07-22T20:40:31.417226Z",
     "iopub.status.busy": "2021-07-22T20:40:31.416457Z",
     "iopub.status.idle": "2021-07-22T20:40:31.422322Z",
     "shell.execute_reply": "2021-07-22T20:40:31.421739Z",
     "shell.execute_reply.started": "2021-07-22T20:30:29.536444Z"
    },
    "papermill": {
     "duration": 0.041317,
     "end_time": "2021-07-22T20:40:31.422458",
     "exception": false,
     "start_time": "2021-07-22T20:40:31.381141",
     "status": "completed"
    },
    "tags": []
   },
   "outputs": [
    {
     "data": {
      "text/plain": [
       "array(['Fair / Windy', 'Fair', 'Light Rain / Windy', 'Partly Cloudy',\n",
       "       'Mostly Cloudy', 'Cloudy', 'Light Rain', 'Mostly Cloudy / Windy',\n",
       "       'Partly Cloudy / Windy', 'Light Snow / Windy', 'Cloudy / Windy',\n",
       "       'Light Drizzle', 'Rain', 'Heavy Rain', 'Fog', 'Wintry Mix',\n",
       "       'Light Freezing Rain', 'Light Snow', 'Wintry Mix / Windy',\n",
       "       'Fog / Windy', 'Light Drizzle / Windy', 'Rain / Windy',\n",
       "       'Drizzle and Fog', 'Snow', 'Heavy Rain / Windy'], dtype=object)"
      ]
     },
     "execution_count": 5,
     "metadata": {},
     "output_type": "execute_result"
    }
   ],
   "source": [
    "data['Condition'].unique()"
   ]
  },
  {
   "cell_type": "code",
   "execution_count": 6,
   "id": "8b2830ca",
   "metadata": {
    "execution": {
     "iopub.execute_input": "2021-07-22T20:40:31.494024Z",
     "iopub.status.busy": "2021-07-22T20:40:31.493395Z",
     "iopub.status.idle": "2021-07-22T20:40:31.500498Z",
     "shell.execute_reply": "2021-07-22T20:40:31.500001Z",
     "shell.execute_reply.started": "2021-07-22T20:30:29.559296Z"
    },
    "papermill": {
     "duration": 0.050922,
     "end_time": "2021-07-22T20:40:31.500600",
     "exception": false,
     "start_time": "2021-07-22T20:40:31.449678",
     "status": "completed"
    },
    "tags": []
   },
   "outputs": [
    {
     "data": {
      "text/plain": [
       "array([ 4,  3, 13, 18, 16,  0, 12, 17, 19, 15,  1,  9, 20,  7,  5, 23, 11,\n",
       "       14, 24,  6, 10, 21,  2, 22,  8])"
      ]
     },
     "execution_count": 6,
     "metadata": {},
     "output_type": "execute_result"
    }
   ],
   "source": [
    "label_encoder=preprocessing.LabelEncoder()\n",
    "label_data=data\n",
    "label_data['Condition']=label_encoder.fit_transform(label_data['Condition'])\n",
    "label_data['Condition'].unique()"
   ]
  },
  {
   "cell_type": "code",
   "execution_count": 7,
   "id": "547db2b3",
   "metadata": {
    "execution": {
     "iopub.execute_input": "2021-07-22T20:40:31.571663Z",
     "iopub.status.busy": "2021-07-22T20:40:31.570249Z",
     "iopub.status.idle": "2021-07-22T20:40:31.574783Z",
     "shell.execute_reply": "2021-07-22T20:40:31.574307Z",
     "shell.execute_reply.started": "2021-07-22T20:30:29.591993Z"
    },
    "papermill": {
     "duration": 0.046465,
     "end_time": "2021-07-22T20:40:31.574909",
     "exception": false,
     "start_time": "2021-07-22T20:40:31.528444",
     "status": "completed"
    },
    "tags": []
   },
   "outputs": [],
   "source": [
    "label_data['Wind']=str(label_data['Wind'])\n",
    "label_data['Wind']=label_encoder.fit_transform(label_data['Wind'])\n"
   ]
  },
  {
   "cell_type": "code",
   "execution_count": 8,
   "id": "fc0f2159",
   "metadata": {
    "execution": {
     "iopub.execute_input": "2021-07-22T20:40:31.640066Z",
     "iopub.status.busy": "2021-07-22T20:40:31.639196Z",
     "iopub.status.idle": "2021-07-22T20:40:31.664604Z",
     "shell.execute_reply": "2021-07-22T20:40:31.665113Z",
     "shell.execute_reply.started": "2021-07-22T20:30:29.622431Z"
    },
    "papermill": {
     "duration": 0.058237,
     "end_time": "2021-07-22T20:40:31.665271",
     "exception": false,
     "start_time": "2021-07-22T20:40:31.607034",
     "status": "completed"
    },
    "tags": []
   },
   "outputs": [
    {
     "data": {
      "text/html": [
       "<div>\n",
       "<style scoped>\n",
       "    .dataframe tbody tr th:only-of-type {\n",
       "        vertical-align: middle;\n",
       "    }\n",
       "\n",
       "    .dataframe tbody tr th {\n",
       "        vertical-align: top;\n",
       "    }\n",
       "\n",
       "    .dataframe thead th {\n",
       "        text-align: right;\n",
       "    }\n",
       "</style>\n",
       "<table border=\"1\" class=\"dataframe\">\n",
       "  <thead>\n",
       "    <tr style=\"text-align: right;\">\n",
       "      <th></th>\n",
       "      <th>MONTH</th>\n",
       "      <th>DAY_OF_MONTH</th>\n",
       "      <th>DAY_OF_WEEK</th>\n",
       "      <th>OP_UNIQUE_CARRIER</th>\n",
       "      <th>TAIL_NUM</th>\n",
       "      <th>DEST</th>\n",
       "      <th>DEP_DELAY</th>\n",
       "      <th>CRS_ELAPSED_TIME</th>\n",
       "      <th>DISTANCE</th>\n",
       "      <th>CRS_DEP_M</th>\n",
       "      <th>...</th>\n",
       "      <th>Dew Point</th>\n",
       "      <th>Humidity</th>\n",
       "      <th>Wind</th>\n",
       "      <th>Wind Speed</th>\n",
       "      <th>Wind Gust</th>\n",
       "      <th>Pressure</th>\n",
       "      <th>Condition</th>\n",
       "      <th>sch_dep</th>\n",
       "      <th>sch_arr</th>\n",
       "      <th>TAXI_OUT</th>\n",
       "    </tr>\n",
       "  </thead>\n",
       "  <tbody>\n",
       "    <tr>\n",
       "      <th>0</th>\n",
       "      <td>11</td>\n",
       "      <td>1</td>\n",
       "      <td>5</td>\n",
       "      <td>B6</td>\n",
       "      <td>N828JB</td>\n",
       "      <td>CHS</td>\n",
       "      <td>-1</td>\n",
       "      <td>124</td>\n",
       "      <td>636</td>\n",
       "      <td>324</td>\n",
       "      <td>...</td>\n",
       "      <td>34</td>\n",
       "      <td>58</td>\n",
       "      <td>0</td>\n",
       "      <td>25</td>\n",
       "      <td>38</td>\n",
       "      <td>29.86</td>\n",
       "      <td>4</td>\n",
       "      <td>9</td>\n",
       "      <td>17</td>\n",
       "      <td>14</td>\n",
       "    </tr>\n",
       "    <tr>\n",
       "      <th>1</th>\n",
       "      <td>11</td>\n",
       "      <td>1</td>\n",
       "      <td>5</td>\n",
       "      <td>B6</td>\n",
       "      <td>N992JB</td>\n",
       "      <td>LAX</td>\n",
       "      <td>-7</td>\n",
       "      <td>371</td>\n",
       "      <td>2475</td>\n",
       "      <td>340</td>\n",
       "      <td>...</td>\n",
       "      <td>34</td>\n",
       "      <td>58</td>\n",
       "      <td>0</td>\n",
       "      <td>25</td>\n",
       "      <td>38</td>\n",
       "      <td>29.86</td>\n",
       "      <td>4</td>\n",
       "      <td>9</td>\n",
       "      <td>17</td>\n",
       "      <td>15</td>\n",
       "    </tr>\n",
       "    <tr>\n",
       "      <th>2</th>\n",
       "      <td>11</td>\n",
       "      <td>1</td>\n",
       "      <td>5</td>\n",
       "      <td>B6</td>\n",
       "      <td>N959JB</td>\n",
       "      <td>FLL</td>\n",
       "      <td>40</td>\n",
       "      <td>181</td>\n",
       "      <td>1069</td>\n",
       "      <td>301</td>\n",
       "      <td>...</td>\n",
       "      <td>34</td>\n",
       "      <td>58</td>\n",
       "      <td>0</td>\n",
       "      <td>25</td>\n",
       "      <td>38</td>\n",
       "      <td>29.86</td>\n",
       "      <td>4</td>\n",
       "      <td>9</td>\n",
       "      <td>17</td>\n",
       "      <td>22</td>\n",
       "    </tr>\n",
       "    <tr>\n",
       "      <th>3</th>\n",
       "      <td>11</td>\n",
       "      <td>1</td>\n",
       "      <td>5</td>\n",
       "      <td>B6</td>\n",
       "      <td>N999JQ</td>\n",
       "      <td>MCO</td>\n",
       "      <td>-2</td>\n",
       "      <td>168</td>\n",
       "      <td>944</td>\n",
       "      <td>345</td>\n",
       "      <td>...</td>\n",
       "      <td>34</td>\n",
       "      <td>58</td>\n",
       "      <td>0</td>\n",
       "      <td>25</td>\n",
       "      <td>38</td>\n",
       "      <td>29.86</td>\n",
       "      <td>4</td>\n",
       "      <td>9</td>\n",
       "      <td>17</td>\n",
       "      <td>12</td>\n",
       "    </tr>\n",
       "    <tr>\n",
       "      <th>4</th>\n",
       "      <td>11</td>\n",
       "      <td>1</td>\n",
       "      <td>5</td>\n",
       "      <td>DL</td>\n",
       "      <td>N880DN</td>\n",
       "      <td>ATL</td>\n",
       "      <td>-4</td>\n",
       "      <td>139</td>\n",
       "      <td>760</td>\n",
       "      <td>360</td>\n",
       "      <td>...</td>\n",
       "      <td>32</td>\n",
       "      <td>58</td>\n",
       "      <td>0</td>\n",
       "      <td>24</td>\n",
       "      <td>35</td>\n",
       "      <td>29.91</td>\n",
       "      <td>4</td>\n",
       "      <td>9</td>\n",
       "      <td>17</td>\n",
       "      <td>13</td>\n",
       "    </tr>\n",
       "  </tbody>\n",
       "</table>\n",
       "<p>5 rows × 23 columns</p>\n",
       "</div>"
      ],
      "text/plain": [
       "   MONTH  DAY_OF_MONTH  DAY_OF_WEEK OP_UNIQUE_CARRIER TAIL_NUM DEST  \\\n",
       "0     11             1            5                B6   N828JB  CHS   \n",
       "1     11             1            5                B6   N992JB  LAX   \n",
       "2     11             1            5                B6   N959JB  FLL   \n",
       "3     11             1            5                B6   N999JQ  MCO   \n",
       "4     11             1            5                DL   N880DN  ATL   \n",
       "\n",
       "   DEP_DELAY  CRS_ELAPSED_TIME  DISTANCE  CRS_DEP_M  ...  Dew Point  Humidity  \\\n",
       "0         -1               124       636        324  ...         34        58   \n",
       "1         -7               371      2475        340  ...         34        58   \n",
       "2         40               181      1069        301  ...         34        58   \n",
       "3         -2               168       944        345  ...         34        58   \n",
       "4         -4               139       760        360  ...         32        58   \n",
       "\n",
       "   Wind Wind Speed  Wind Gust  Pressure  Condition  sch_dep  sch_arr  TAXI_OUT  \n",
       "0     0         25         38     29.86          4        9       17        14  \n",
       "1     0         25         38     29.86          4        9       17        15  \n",
       "2     0         25         38     29.86          4        9       17        22  \n",
       "3     0         25         38     29.86          4        9       17        12  \n",
       "4     0         24         35     29.91          4        9       17        13  \n",
       "\n",
       "[5 rows x 23 columns]"
      ]
     },
     "execution_count": 8,
     "metadata": {},
     "output_type": "execute_result"
    }
   ],
   "source": [
    "label_data=label_data.drop(['MONTH','DAY_OF_MONTH','DAY_OF_WEEK','OP_UNIQUE_CARRIER'],axis=1)\n",
    "data.head(5)"
   ]
  },
  {
   "cell_type": "code",
   "execution_count": 9,
   "id": "6ffbfd30",
   "metadata": {
    "execution": {
     "iopub.execute_input": "2021-07-22T20:40:31.746016Z",
     "iopub.status.busy": "2021-07-22T20:40:31.745199Z",
     "iopub.status.idle": "2021-07-22T20:40:31.748915Z",
     "shell.execute_reply": "2021-07-22T20:40:31.748493Z",
     "shell.execute_reply.started": "2021-07-22T20:30:29.673002Z"
    },
    "papermill": {
     "duration": 0.049319,
     "end_time": "2021-07-22T20:40:31.749026",
     "exception": false,
     "start_time": "2021-07-22T20:40:31.699707",
     "status": "completed"
    },
    "tags": []
   },
   "outputs": [],
   "source": [
    "label_data=label_data.drop(['TAIL_NUM'],axis=1)\n",
    "label_data['DEST']=label_encoder.fit_transform(label_data['DEST'])\n",
    "data.head(5)\n",
    "label_encoding={}\n",
    "hot_encoding={}"
   ]
  },
  {
   "cell_type": "code",
   "execution_count": 10,
   "id": "662e19c7",
   "metadata": {
    "execution": {
     "iopub.execute_input": "2021-07-22T20:40:31.817404Z",
     "iopub.status.busy": "2021-07-22T20:40:31.816535Z",
     "iopub.status.idle": "2021-07-22T20:40:31.820542Z",
     "shell.execute_reply": "2021-07-22T20:40:31.819947Z",
     "shell.execute_reply.started": "2021-07-22T20:30:29.705938Z"
    },
    "papermill": {
     "duration": 0.043269,
     "end_time": "2021-07-22T20:40:31.820670",
     "exception": false,
     "start_time": "2021-07-22T20:40:31.777401",
     "status": "completed"
    },
    "tags": []
   },
   "outputs": [
    {
     "data": {
      "text/plain": [
       "0    14\n",
       "1    15\n",
       "2    22\n",
       "3    12\n",
       "4    13\n",
       "Name: TAXI_OUT, dtype: int64"
      ]
     },
     "execution_count": 10,
     "metadata": {},
     "output_type": "execute_result"
    }
   ],
   "source": [
    "X=label_data.iloc[:,:17] #input varibles\n",
    "Y=label_data.iloc[:,-1]  #output varibles\n",
    "Y.head(5)"
   ]
  },
  {
   "cell_type": "code",
   "execution_count": 11,
   "id": "8b090e5c",
   "metadata": {
    "execution": {
     "iopub.execute_input": "2021-07-22T20:40:31.884774Z",
     "iopub.status.busy": "2021-07-22T20:40:31.883887Z",
     "iopub.status.idle": "2021-07-22T20:40:31.893720Z",
     "shell.execute_reply": "2021-07-22T20:40:31.894166Z",
     "shell.execute_reply.started": "2021-07-22T20:30:29.728662Z"
    },
    "papermill": {
     "duration": 0.04466,
     "end_time": "2021-07-22T20:40:31.894295",
     "exception": false,
     "start_time": "2021-07-22T20:40:31.849635",
     "status": "completed"
    },
    "tags": []
   },
   "outputs": [],
   "source": [
    "\"Spliting the data set\"\n",
    "from sklearn.model_selection import train_test_split  \n",
    "x_train, x_test, y_train, y_test= train_test_split(X, Y, test_size= 0.1, random_state=0)  "
   ]
  },
  {
   "cell_type": "code",
   "execution_count": 12,
   "id": "c10d0df6",
   "metadata": {
    "execution": {
     "iopub.execute_input": "2021-07-22T20:40:31.967784Z",
     "iopub.status.busy": "2021-07-22T20:40:31.966912Z",
     "iopub.status.idle": "2021-07-22T20:40:32.177210Z",
     "shell.execute_reply": "2021-07-22T20:40:32.177891Z",
     "shell.execute_reply.started": "2021-07-22T20:30:29.756752Z"
    },
    "papermill": {
     "duration": 0.250312,
     "end_time": "2021-07-22T20:40:32.178107",
     "exception": false,
     "start_time": "2021-07-22T20:40:31.927795",
     "status": "completed"
    },
    "tags": []
   },
   "outputs": [],
   "source": [
    "\"Scaling the data \"\n",
    "from sklearn.preprocessing import StandardScaler  \n",
    "st_x= StandardScaler()  \n",
    "x_train= st_x.fit_transform(x_train) \n",
    "x_test= st_x.transform(x_test)   "
   ]
  },
  {
   "cell_type": "code",
   "execution_count": 13,
   "id": "7e54f205",
   "metadata": {
    "execution": {
     "iopub.execute_input": "2021-07-22T20:40:32.286623Z",
     "iopub.status.busy": "2021-07-22T20:40:32.285853Z",
     "iopub.status.idle": "2021-07-22T20:40:32.289322Z",
     "shell.execute_reply": "2021-07-22T20:40:32.289912Z",
     "shell.execute_reply.started": "2021-07-22T20:30:29.931496Z"
    },
    "papermill": {
     "duration": 0.059145,
     "end_time": "2021-07-22T20:40:32.290189",
     "exception": false,
     "start_time": "2021-07-22T20:40:32.231044",
     "status": "completed"
    },
    "tags": []
   },
   "outputs": [],
   "source": [
    "from sklearn.linear_model import LinearRegression"
   ]
  },
  {
   "cell_type": "code",
   "execution_count": 14,
   "id": "8482b09b",
   "metadata": {
    "execution": {
     "iopub.execute_input": "2021-07-22T20:40:32.410904Z",
     "iopub.status.busy": "2021-07-22T20:40:32.410039Z",
     "iopub.status.idle": "2021-07-22T20:40:32.594099Z",
     "shell.execute_reply": "2021-07-22T20:40:32.593618Z",
     "shell.execute_reply.started": "2021-07-22T20:30:29.937410Z"
    },
    "papermill": {
     "duration": 0.24843,
     "end_time": "2021-07-22T20:40:32.594226",
     "exception": false,
     "start_time": "2021-07-22T20:40:32.345796",
     "status": "completed"
    },
    "tags": []
   },
   "outputs": [
    {
     "data": {
      "text/plain": [
       "LinearRegression()"
      ]
     },
     "execution_count": 14,
     "metadata": {},
     "output_type": "execute_result"
    }
   ],
   "source": [
    "\"Applying linear regression\"\n",
    "linear_regressor = LinearRegression()\n",
    "linear_regressor.fit(x_train, y_train)\n"
   ]
  },
  {
   "cell_type": "code",
   "execution_count": 15,
   "id": "023db8fe",
   "metadata": {
    "execution": {
     "iopub.execute_input": "2021-07-22T20:40:32.658042Z",
     "iopub.status.busy": "2021-07-22T20:40:32.657392Z",
     "iopub.status.idle": "2021-07-22T20:40:32.667086Z",
     "shell.execute_reply": "2021-07-22T20:40:32.667681Z",
     "shell.execute_reply.started": "2021-07-22T20:30:29.963174Z"
    },
    "papermill": {
     "duration": 0.043045,
     "end_time": "2021-07-22T20:40:32.667852",
     "exception": false,
     "start_time": "2021-07-22T20:40:32.624807",
     "status": "completed"
    },
    "tags": []
   },
   "outputs": [
    {
     "name": "stdout",
     "output_type": "stream",
     "text": [
      "6.6126707439580015\n"
     ]
    }
   ],
   "source": [
    "\"Getting the predicted value and calucaling cost function\"\n",
    "Y_pred=linear_regressor.predict(x_test)\n",
    "from sklearn.metrics import mean_squared_error\n",
    "rmse_linear =math.sqrt(mean_squared_error(y_test, Y_pred))\n",
    "print(rmse_linear)"
   ]
  },
  {
   "cell_type": "code",
   "execution_count": 16,
   "id": "76729e2d",
   "metadata": {
    "execution": {
     "iopub.execute_input": "2021-07-22T20:40:32.777067Z",
     "iopub.status.busy": "2021-07-22T20:40:32.776019Z",
     "iopub.status.idle": "2021-07-22T20:40:32.782820Z",
     "shell.execute_reply": "2021-07-22T20:40:32.783926Z",
     "shell.execute_reply.started": "2021-07-22T20:30:29.977717Z"
    },
    "papermill": {
     "duration": 0.063285,
     "end_time": "2021-07-22T20:40:32.784241",
     "exception": false,
     "start_time": "2021-07-22T20:40:32.720956",
     "status": "completed"
    },
    "tags": []
   },
   "outputs": [
    {
     "name": "stdout",
     "output_type": "stream",
     "text": [
      "0.08246446580400146\n"
     ]
    }
   ],
   "source": [
    "print(linear_regressor.score(x_test, y_test))"
   ]
  },
  {
   "cell_type": "code",
   "execution_count": 17,
   "id": "7de93b9f",
   "metadata": {
    "execution": {
     "iopub.execute_input": "2021-07-22T20:40:32.911490Z",
     "iopub.status.busy": "2021-07-22T20:40:32.909977Z",
     "iopub.status.idle": "2021-07-22T20:40:32.923718Z",
     "shell.execute_reply": "2021-07-22T20:40:32.924417Z",
     "shell.execute_reply.started": "2021-07-22T20:30:29.987579Z"
    },
    "papermill": {
     "duration": 0.082929,
     "end_time": "2021-07-22T20:40:32.924618",
     "exception": false,
     "start_time": "2021-07-22T20:40:32.841689",
     "status": "completed"
    },
    "tags": []
   },
   "outputs": [],
   "source": [
    "ridgeReg = Ridge(alpha=0.01, normalize=True)\n",
    "\n",
    "ridgeReg.fit(x_train,y_train)\n",
    "\n",
    "y_pred_ridge = ridgeReg.predict(x_test)"
   ]
  },
  {
   "cell_type": "code",
   "execution_count": 18,
   "id": "a5020acc",
   "metadata": {
    "execution": {
     "iopub.execute_input": "2021-07-22T20:40:33.043468Z",
     "iopub.status.busy": "2021-07-22T20:40:33.042651Z",
     "iopub.status.idle": "2021-07-22T20:40:33.046465Z",
     "shell.execute_reply": "2021-07-22T20:40:33.047295Z",
     "shell.execute_reply.started": "2021-07-22T20:30:30.007920Z"
    },
    "papermill": {
     "duration": 0.069846,
     "end_time": "2021-07-22T20:40:33.047546",
     "exception": false,
     "start_time": "2021-07-22T20:40:32.977700",
     "status": "completed"
    },
    "tags": []
   },
   "outputs": [
    {
     "name": "stdout",
     "output_type": "stream",
     "text": [
      "6.6174272604977675\n"
     ]
    }
   ],
   "source": [
    "rmse_ridge=math.sqrt(mean_squared_error(y_test,y_pred_ridge))\n",
    "print(rmse_ridge)"
   ]
  },
  {
   "cell_type": "code",
   "execution_count": 19,
   "id": "d91400c1",
   "metadata": {
    "execution": {
     "iopub.execute_input": "2021-07-22T20:40:33.120712Z",
     "iopub.status.busy": "2021-07-22T20:40:33.119775Z",
     "iopub.status.idle": "2021-07-22T20:40:33.122748Z",
     "shell.execute_reply": "2021-07-22T20:40:33.122269Z",
     "shell.execute_reply.started": "2021-07-22T20:30:30.015590Z"
    },
    "papermill": {
     "duration": 0.040475,
     "end_time": "2021-07-22T20:40:33.122879",
     "exception": false,
     "start_time": "2021-07-22T20:40:33.082404",
     "status": "completed"
    },
    "tags": []
   },
   "outputs": [],
   "source": [
    "from sklearn.linear_model import Lasso\n",
    "lassoreg=Lasso(alpha=0.01,normalize=True)"
   ]
  },
  {
   "cell_type": "code",
   "execution_count": 20,
   "id": "891c1dd5",
   "metadata": {
    "execution": {
     "iopub.execute_input": "2021-07-22T20:40:33.193873Z",
     "iopub.status.busy": "2021-07-22T20:40:33.192811Z",
     "iopub.status.idle": "2021-07-22T20:40:33.211853Z",
     "shell.execute_reply": "2021-07-22T20:40:33.213444Z",
     "shell.execute_reply.started": "2021-07-22T20:30:30.024476Z"
    },
    "papermill": {
     "duration": 0.057347,
     "end_time": "2021-07-22T20:40:33.213657",
     "exception": false,
     "start_time": "2021-07-22T20:40:33.156310",
     "status": "completed"
    },
    "tags": []
   },
   "outputs": [
    {
     "name": "stdout",
     "output_type": "stream",
     "text": [
      "6.903781767104768\n"
     ]
    }
   ],
   "source": [
    "lassoreg.fit(x_train,y_train)\n",
    "y_pred_lasso=lassoreg.predict(x_test)\n",
    "rmse_lasso=math.sqrt(mean_squared_error(y_test,y_pred_lasso))\n",
    "print(rmse_lasso)"
   ]
  },
  {
   "cell_type": "code",
   "execution_count": 21,
   "id": "01a5e86f",
   "metadata": {
    "execution": {
     "iopub.execute_input": "2021-07-22T20:40:33.338325Z",
     "iopub.status.busy": "2021-07-22T20:40:33.337577Z",
     "iopub.status.idle": "2021-07-22T20:40:33.389577Z",
     "shell.execute_reply": "2021-07-22T20:40:33.389084Z",
     "shell.execute_reply.started": "2021-07-22T20:30:30.045083Z"
    },
    "papermill": {
     "duration": 0.116477,
     "end_time": "2021-07-22T20:40:33.389698",
     "exception": false,
     "start_time": "2021-07-22T20:40:33.273221",
     "status": "completed"
    },
    "tags": []
   },
   "outputs": [],
   "source": [
    "from sklearn.neighbors import KNeighborsClassifier\n",
    "knn = KNeighborsClassifier(n_neighbors=10)"
   ]
  },
  {
   "cell_type": "code",
   "execution_count": 22,
   "id": "fc4bd7e9",
   "metadata": {
    "execution": {
     "iopub.execute_input": "2021-07-22T20:40:33.454106Z",
     "iopub.status.busy": "2021-07-22T20:40:33.453398Z",
     "iopub.status.idle": "2021-07-22T20:40:34.493129Z",
     "shell.execute_reply": "2021-07-22T20:40:34.493608Z",
     "shell.execute_reply.started": "2021-07-22T20:30:30.052846Z"
    },
    "papermill": {
     "duration": 1.073591,
     "end_time": "2021-07-22T20:40:34.493793",
     "exception": false,
     "start_time": "2021-07-22T20:40:33.420202",
     "status": "completed"
    },
    "tags": []
   },
   "outputs": [],
   "source": [
    "knn.fit(x_train,y_train)\n",
    "y_pred_knn=knn.predict(x_test)"
   ]
  },
  {
   "cell_type": "code",
   "execution_count": 23,
   "id": "88cb21e7",
   "metadata": {
    "execution": {
     "iopub.execute_input": "2021-07-22T20:40:34.561517Z",
     "iopub.status.busy": "2021-07-22T20:40:34.560867Z",
     "iopub.status.idle": "2021-07-22T20:40:34.564479Z",
     "shell.execute_reply": "2021-07-22T20:40:34.565045Z",
     "shell.execute_reply.started": "2021-07-22T20:30:31.217072Z"
    },
    "papermill": {
     "duration": 0.03951,
     "end_time": "2021-07-22T20:40:34.565213",
     "exception": false,
     "start_time": "2021-07-22T20:40:34.525703",
     "status": "completed"
    },
    "tags": []
   },
   "outputs": [
    {
     "name": "stdout",
     "output_type": "stream",
     "text": [
      "8.377086159225293\n"
     ]
    }
   ],
   "source": [
    "rmse_knn=math.sqrt(mean_squared_error(y_test,y_pred_knn))\n",
    "print(rmse_knn)"
   ]
  },
  {
   "cell_type": "code",
   "execution_count": 24,
   "id": "c531548c",
   "metadata": {
    "execution": {
     "iopub.execute_input": "2021-07-22T20:40:34.630649Z",
     "iopub.status.busy": "2021-07-22T20:40:34.629909Z",
     "iopub.status.idle": "2021-07-22T20:41:51.448052Z",
     "shell.execute_reply": "2021-07-22T20:41:51.448501Z",
     "shell.execute_reply.started": "2021-07-22T20:30:31.232214Z"
    },
    "papermill": {
     "duration": 76.852639,
     "end_time": "2021-07-22T20:41:51.448656",
     "exception": false,
     "start_time": "2021-07-22T20:40:34.596017",
     "status": "completed"
    },
    "tags": []
   },
   "outputs": [
    {
     "data": {
      "text/plain": [
       "SVC(random_state=1)"
      ]
     },
     "execution_count": 24,
     "metadata": {},
     "output_type": "execute_result"
    }
   ],
   "source": [
    "from sklearn.svm import SVC\n",
    "classifier = SVC(kernel='rbf', random_state = 1)\n",
    "classifier.fit(x_train,y_train)"
   ]
  },
  {
   "cell_type": "code",
   "execution_count": 25,
   "id": "3ed22805",
   "metadata": {
    "execution": {
     "iopub.execute_input": "2021-07-22T20:41:51.512870Z",
     "iopub.status.busy": "2021-07-22T20:41:51.512037Z",
     "iopub.status.idle": "2021-07-22T20:41:57.618563Z",
     "shell.execute_reply": "2021-07-22T20:41:57.618018Z",
     "shell.execute_reply.started": "2021-07-22T20:31:48.760629Z"
    },
    "papermill": {
     "duration": 6.140178,
     "end_time": "2021-07-22T20:41:57.618737",
     "exception": false,
     "start_time": "2021-07-22T20:41:51.478559",
     "status": "completed"
    },
    "tags": []
   },
   "outputs": [
    {
     "name": "stdout",
     "output_type": "stream",
     "text": [
      "7.785063725511221\n"
     ]
    }
   ],
   "source": [
    "y_pred_svc=classifier.predict(x_test)\n",
    "rmse_svc=math.sqrt(mean_squared_error(y_pred_svc,y_test))\n",
    "print(rmse_svc)"
   ]
  },
  {
   "cell_type": "code",
   "execution_count": 26,
   "id": "b30518b3",
   "metadata": {
    "execution": {
     "iopub.execute_input": "2021-07-22T20:41:57.685342Z",
     "iopub.status.busy": "2021-07-22T20:41:57.684701Z",
     "iopub.status.idle": "2021-07-22T20:41:57.714950Z",
     "shell.execute_reply": "2021-07-22T20:41:57.714540Z",
     "shell.execute_reply.started": "2021-07-22T20:31:55.580252Z"
    },
    "papermill": {
     "duration": 0.064297,
     "end_time": "2021-07-22T20:41:57.715064",
     "exception": false,
     "start_time": "2021-07-22T20:41:57.650767",
     "status": "completed"
    },
    "tags": []
   },
   "outputs": [
    {
     "name": "stdout",
     "output_type": "stream",
     "text": [
      "8.827438140374444\n"
     ]
    }
   ],
   "source": [
    "from sklearn.naive_bayes import GaussianNB\n",
    "model = GaussianNB()\n",
    "model.fit(x_train,y_train)\n",
    "y_pred_nb=model.predict(x_test)\n",
    "rmse_nb=math.sqrt(mean_squared_error(y_test,y_pred_nb))\n",
    "print(rmse_nb)"
   ]
  },
  {
   "cell_type": "code",
   "execution_count": 27,
   "id": "7874c3ee",
   "metadata": {
    "execution": {
     "iopub.execute_input": "2021-07-22T20:41:57.780283Z",
     "iopub.status.busy": "2021-07-22T20:41:57.779736Z",
     "iopub.status.idle": "2021-07-22T20:42:07.604696Z",
     "shell.execute_reply": "2021-07-22T20:42:07.603939Z",
     "shell.execute_reply.started": "2021-07-22T20:31:55.617376Z"
    },
    "papermill": {
     "duration": 9.859139,
     "end_time": "2021-07-22T20:42:07.604823",
     "exception": false,
     "start_time": "2021-07-22T20:41:57.745684",
     "status": "completed"
    },
    "tags": []
   },
   "outputs": [
    {
     "name": "stdout",
     "output_type": "stream",
     "text": [
      "7.3990312024083496\n"
     ]
    }
   ],
   "source": [
    "from sklearn.ensemble import RandomForestClassifier\n",
    "clf=RandomForestClassifier(n_estimators=100)\n",
    "clf.fit(x_train,y_train)\n",
    "\n",
    "y_pred_clf=clf.predict(x_test)\n",
    "rmse_clf=math.sqrt(mean_squared_error(y_test,y_pred_clf))\n",
    "print(rmse_clf)"
   ]
  },
  {
   "cell_type": "code",
   "execution_count": 28,
   "id": "9cb15615",
   "metadata": {
    "execution": {
     "iopub.execute_input": "2021-07-22T20:42:07.671913Z",
     "iopub.status.busy": "2021-07-22T20:42:07.671262Z",
     "iopub.status.idle": "2021-07-22T20:42:07.673973Z",
     "shell.execute_reply": "2021-07-22T20:42:07.674394Z",
     "shell.execute_reply.started": "2021-07-22T20:32:06.597359Z"
    },
    "papermill": {
     "duration": 0.038359,
     "end_time": "2021-07-22T20:42:07.674523",
     "exception": false,
     "start_time": "2021-07-22T20:42:07.636164",
     "status": "completed"
    },
    "tags": []
   },
   "outputs": [
    {
     "name": "stdout",
     "output_type": "stream",
     "text": [
      "{6.903781767104768, 7.785063725511221, 8.377086159225293, 6.6126707439580015, 6.6174272604977675, 8.827438140374444, 7.3990312024083496}\n"
     ]
    }
   ],
   "source": [
    "models={'Linear reg','ridge','lasso','KNN','SVC','navier bayes','RandomForest'}\n",
    "label_encoding={rmse_linear,rmse_ridge,rmse_lasso,rmse_knn,rmse_svc,rmse_nb,rmse_clf}\n",
    "print(label_encoding)"
   ]
  },
  {
   "cell_type": "code",
   "execution_count": 29,
   "id": "ee6a2bb8",
   "metadata": {
    "execution": {
     "iopub.execute_input": "2021-07-22T20:42:07.740002Z",
     "iopub.status.busy": "2021-07-22T20:42:07.739288Z",
     "iopub.status.idle": "2021-07-22T20:42:07.742196Z",
     "shell.execute_reply": "2021-07-22T20:42:07.741770Z",
     "shell.execute_reply.started": "2021-07-22T20:32:06.605244Z"
    },
    "papermill": {
     "duration": 0.036929,
     "end_time": "2021-07-22T20:42:07.742298",
     "exception": false,
     "start_time": "2021-07-22T20:42:07.705369",
     "status": "completed"
    },
    "tags": []
   },
   "outputs": [],
   "source": [
    "from sklearn.preprocessing import OneHotEncoder\n",
    "hot_data=data\n"
   ]
  },
  {
   "cell_type": "code",
   "execution_count": 30,
   "id": "3f2acf72",
   "metadata": {
    "execution": {
     "iopub.execute_input": "2021-07-22T20:42:07.812624Z",
     "iopub.status.busy": "2021-07-22T20:42:07.811816Z",
     "iopub.status.idle": "2021-07-22T20:42:07.835908Z",
     "shell.execute_reply": "2021-07-22T20:42:07.836274Z",
     "shell.execute_reply.started": "2021-07-22T20:32:06.623578Z"
    },
    "papermill": {
     "duration": 0.063317,
     "end_time": "2021-07-22T20:42:07.836430",
     "exception": false,
     "start_time": "2021-07-22T20:42:07.773113",
     "status": "completed"
    },
    "tags": []
   },
   "outputs": [],
   "source": [
    "X_OE = pd.get_dummies(X, columns=[ 'DEST', 'Dew Point', 'Wind', 'Condition'])"
   ]
  },
  {
   "cell_type": "code",
   "execution_count": 31,
   "id": "a99488d1",
   "metadata": {
    "execution": {
     "iopub.execute_input": "2021-07-22T20:42:07.904438Z",
     "iopub.status.busy": "2021-07-22T20:42:07.903591Z",
     "iopub.status.idle": "2021-07-22T20:42:07.934554Z",
     "shell.execute_reply": "2021-07-22T20:42:07.934105Z",
     "shell.execute_reply.started": "2021-07-22T20:32:06.661054Z"
    },
    "papermill": {
     "duration": 0.067373,
     "end_time": "2021-07-22T20:42:07.934690",
     "exception": false,
     "start_time": "2021-07-22T20:42:07.867317",
     "status": "completed"
    },
    "tags": []
   },
   "outputs": [],
   "source": [
    "x_train, x_test, y_train, y_test = train_test_split(X_OE,Y, test_size = 0.1, random_state =10)"
   ]
  },
  {
   "cell_type": "code",
   "execution_count": 32,
   "id": "d040e79e",
   "metadata": {
    "execution": {
     "iopub.execute_input": "2021-07-22T20:42:08.004802Z",
     "iopub.status.busy": "2021-07-22T20:42:08.003752Z",
     "iopub.status.idle": "2021-07-22T20:42:08.186507Z",
     "shell.execute_reply": "2021-07-22T20:42:08.187126Z",
     "shell.execute_reply.started": "2021-07-22T20:32:06.700365Z"
    },
    "papermill": {
     "duration": 0.221414,
     "end_time": "2021-07-22T20:42:08.187351",
     "exception": false,
     "start_time": "2021-07-22T20:42:07.965937",
     "status": "completed"
    },
    "tags": []
   },
   "outputs": [
    {
     "name": "stdout",
     "output_type": "stream",
     "text": [
      "6.621639062440641\n"
     ]
    }
   ],
   "source": [
    "linear_regressor.fit(x_train,y_train)\n",
    "y_pred_linear=linear_regressor.predict(x_test)\n",
    "rmse_linear=math.sqrt(mean_squared_error(y_pred_linear,y_test))\n",
    "print(rmse_linear)\n"
   ]
  },
  {
   "cell_type": "code",
   "execution_count": 33,
   "id": "c4576c0b",
   "metadata": {
    "execution": {
     "iopub.execute_input": "2021-07-22T20:42:08.314799Z",
     "iopub.status.busy": "2021-07-22T20:42:08.313720Z",
     "iopub.status.idle": "2021-07-22T20:42:08.382147Z",
     "shell.execute_reply": "2021-07-22T20:42:08.381331Z",
     "shell.execute_reply.started": "2021-07-22T20:32:06.899963Z"
    },
    "papermill": {
     "duration": 0.138356,
     "end_time": "2021-07-22T20:42:08.382329",
     "exception": false,
     "start_time": "2021-07-22T20:42:08.243973",
     "status": "completed"
    },
    "tags": []
   },
   "outputs": [
    {
     "name": "stdout",
     "output_type": "stream",
     "text": [
      "7.088618612382422\n"
     ]
    }
   ],
   "source": [
    "lassoreg.fit(x_train,y_train)\n",
    "y_pred_lasso=lassoreg.predict(x_test)\n",
    "rmse_lasso=math.sqrt(mean_squared_error(y_test,y_pred_lasso))\n",
    "print(rmse_lasso)"
   ]
  },
  {
   "cell_type": "code",
   "execution_count": 34,
   "id": "c07cff1c",
   "metadata": {
    "execution": {
     "iopub.execute_input": "2021-07-22T20:42:08.509378Z",
     "iopub.status.busy": "2021-07-22T20:42:08.508860Z",
     "iopub.status.idle": "2021-07-22T20:42:09.561208Z",
     "shell.execute_reply": "2021-07-22T20:42:09.560783Z",
     "shell.execute_reply.started": "2021-07-22T20:32:07.012999Z"
    },
    "papermill": {
     "duration": 1.120553,
     "end_time": "2021-07-22T20:42:09.561326",
     "exception": false,
     "start_time": "2021-07-22T20:42:08.440773",
     "status": "completed"
    },
    "tags": []
   },
   "outputs": [
    {
     "name": "stdout",
     "output_type": "stream",
     "text": [
      "8.70379642294687\n"
     ]
    }
   ],
   "source": [
    "knn.fit(x_train,y_train)\n",
    "y_pred_knn=knn.predict(x_test)\n",
    "rmse_knn=math.sqrt(mean_squared_error(y_test,y_pred_knn))\n",
    "print(rmse_knn)"
   ]
  },
  {
   "cell_type": "code",
   "execution_count": 35,
   "id": "80060b75",
   "metadata": {
    "execution": {
     "iopub.execute_input": "2021-07-22T20:42:09.634726Z",
     "iopub.status.busy": "2021-07-22T20:42:09.633808Z",
     "iopub.status.idle": "2021-07-22T20:47:47.450458Z",
     "shell.execute_reply": "2021-07-22T20:47:47.450883Z",
     "shell.execute_reply.started": "2021-07-22T20:32:08.137722Z"
    },
    "papermill": {
     "duration": 337.856445,
     "end_time": "2021-07-22T20:47:47.451035",
     "exception": false,
     "start_time": "2021-07-22T20:42:09.594590",
     "status": "completed"
    },
    "tags": []
   },
   "outputs": [
    {
     "name": "stdout",
     "output_type": "stream",
     "text": [
      "8.629328008234408\n"
     ]
    }
   ],
   "source": [
    "classifier.fit(x_train,y_train)\n",
    "y_pred_svc=classifier.predict(x_test)\n",
    "rmse_svc=math.sqrt(mean_squared_error(y_pred_svc,y_test))\n",
    "print(rmse_svc)"
   ]
  },
  {
   "cell_type": "code",
   "execution_count": 36,
   "id": "9c01d565",
   "metadata": {
    "execution": {
     "iopub.execute_input": "2021-07-22T20:47:47.523253Z",
     "iopub.status.busy": "2021-07-22T20:47:47.522207Z",
     "iopub.status.idle": "2021-07-22T20:47:47.670976Z",
     "shell.execute_reply": "2021-07-22T20:47:47.671410Z",
     "shell.execute_reply.started": "2021-07-22T20:37:45.050799Z"
    },
    "papermill": {
     "duration": 0.188239,
     "end_time": "2021-07-22T20:47:47.671559",
     "exception": false,
     "start_time": "2021-07-22T20:47:47.483320",
     "status": "completed"
    },
    "tags": []
   },
   "outputs": [
    {
     "name": "stdout",
     "output_type": "stream",
     "text": [
      "15.702152683299827\n"
     ]
    }
   ],
   "source": [
    "model.fit(x_train,y_train)\n",
    "y_pred_nb=model.predict(x_test)\n",
    "rmse_nb=math.sqrt(mean_squared_error(y_test,y_pred_nb))\n",
    "print(rmse_nb)"
   ]
  },
  {
   "cell_type": "code",
   "execution_count": 37,
   "id": "ecf52b02",
   "metadata": {
    "execution": {
     "iopub.execute_input": "2021-07-22T20:47:47.744765Z",
     "iopub.status.busy": "2021-07-22T20:47:47.743710Z",
     "iopub.status.idle": "2021-07-22T20:47:56.814552Z",
     "shell.execute_reply": "2021-07-22T20:47:56.814100Z",
     "shell.execute_reply.started": "2021-07-22T20:37:45.220685Z"
    },
    "papermill": {
     "duration": 9.109998,
     "end_time": "2021-07-22T20:47:56.814672",
     "exception": false,
     "start_time": "2021-07-22T20:47:47.704674",
     "status": "completed"
    },
    "tags": []
   },
   "outputs": [
    {
     "name": "stdout",
     "output_type": "stream",
     "text": [
      "7.6215116137337855\n"
     ]
    }
   ],
   "source": [
    "clf.fit(x_train,y_train)\n",
    "\n",
    "y_pred_clf=clf.predict(x_test)\n",
    "rmse_clf=math.sqrt(mean_squared_error(y_test,y_pred_clf))\n",
    "print(rmse_clf)"
   ]
  },
  {
   "cell_type": "code",
   "execution_count": 38,
   "id": "21030835",
   "metadata": {
    "execution": {
     "iopub.execute_input": "2021-07-22T20:47:56.884738Z",
     "iopub.status.busy": "2021-07-22T20:47:56.884153Z",
     "iopub.status.idle": "2021-07-22T20:47:56.886893Z",
     "shell.execute_reply": "2021-07-22T20:47:56.887284Z",
     "shell.execute_reply.started": "2021-07-22T20:39:25.491615Z"
    },
    "papermill": {
     "duration": 0.039783,
     "end_time": "2021-07-22T20:47:56.887427",
     "exception": false,
     "start_time": "2021-07-22T20:47:56.847644",
     "status": "completed"
    },
    "tags": []
   },
   "outputs": [
    {
     "name": "stdout",
     "output_type": "stream",
     "text": [
      "[6.621639062440641, 6.6174272604977675, 7.088618612382422, 8.70379642294687, 8.629328008234408, 15.702152683299827, 7.6215116137337855]\n"
     ]
    }
   ],
   "source": [
    "hot_encoding=[rmse_linear,rmse_ridge,rmse_lasso,rmse_knn,rmse_svc,rmse_nb,rmse_clf]\n",
    "print(hot_encoding)"
   ]
  },
  {
   "cell_type": "code",
   "execution_count": 39,
   "id": "a8bdd20c",
   "metadata": {
    "execution": {
     "iopub.execute_input": "2021-07-22T20:47:56.971371Z",
     "iopub.status.busy": "2021-07-22T20:47:56.970727Z",
     "iopub.status.idle": "2021-07-22T20:47:57.112556Z",
     "shell.execute_reply": "2021-07-22T20:47:57.111638Z",
     "shell.execute_reply.started": "2021-07-22T20:39:39.359104Z"
    },
    "papermill": {
     "duration": 0.192449,
     "end_time": "2021-07-22T20:47:57.112697",
     "exception": false,
     "start_time": "2021-07-22T20:47:56.920248",
     "status": "completed"
    },
    "tags": []
   },
   "outputs": [
    {
     "data": {
      "image/png": "[encoded data removed]",
      "text/plain": [
       "<Figure size 432x288 with 1 Axes>"
      ]
     },
     "metadata": {
      "needs_background": "light"
     },
     "output_type": "display_data"
    }
   ],
   "source": [
    "array1 = np.array(list(label_encoding))\n",
    "array2 = np.array(list(hot_encoding))\n",
    "models=[\"Linear reg\",\"ridge\",\"lasso\",\"KNN\",\"SVC\",\"navier bayes\",\"RandomForest\"]\n",
    "#print(array1.size)\n",
    "#print(array1)\n",
    "plt.plot(models,array1)\n",
    "plt.plot(models,array2)\n",
    "\n",
    "plt.legend([\"Label Encoding\",\"One Hot Encoding\"])\n",
    "\n",
    "plt.xlabel(\"models\")\n",
    "plt.ylabel(\"RMSE\")\n",
    "plt.show()\n"
   ]
  },
  {
   "cell_type": "code",
   "execution_count": null,
   "id": "5cc30368",
   "metadata": {
    "papermill": {
     "duration": 0.037454,
     "end_time": "2021-07-22T20:47:57.190413",
     "exception": false,
     "start_time": "2021-07-22T20:47:57.152959",
     "status": "completed"
    },
    "tags": []
   },
   "outputs": [],
   "source": []
  }
 ],
 "metadata": {
  "kernelspec": {
   "display_name": "Python 3",
   "language": "python",
   "name": "python3"
  },
  "language_info": {
   "codemirror_mode": {
    "name": "ipython",
    "version": 3
   },
   "file_extension": ".py",
   "mimetype": "text/x-python",
   "name": "python",
   "nbconvert_exporter": "python",
   "pygments_lexer": "ipython3",
   "version": "3.7.10"
  },
  "papermill": {
   "default_parameters": {},
   "duration": 455.86054,
   "end_time": "2021-07-22T20:47:58.701100",
   "environment_variables": {},
   "exception": null,
   "input_path": "__notebook__.ipynb",
   "output_path": "__notebook__.ipynb",
   "parameters": {},
   "start_time": "2021-07-22T20:40:22.840560",
   "version": "2.3.3"
  }
 },
 "nbformat": 4,
 "nbformat_minor": 5
}
